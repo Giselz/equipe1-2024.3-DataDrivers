{
 "cells": [
  {
   "cell_type": "markdown",
   "metadata": {},
   "source": [
    "# Análise exploratória de dados"
   ]
  },
  {
   "cell_type": "code",
   "execution_count": 3,
   "metadata": {},
   "outputs": [],
   "source": [
    "import pandas as pd\n",
    "import numpy as np \n",
    "import matplotlib.pyplot as plt\n",
    "from pathlib import Path\n",
    "import seaborn as sns \n",
    "from IPython.display import display, Markdown "
   ]
  },
  {
   "cell_type": "markdown",
   "metadata": {},
   "source": [
    "## 1. Descrição dos dados"
   ]
  },
  {
   "cell_type": "markdown",
   "metadata": {},
   "source": [
    "### Conjunto de dados"
   ]
  },
  {
   "cell_type": "markdown",
   "metadata": {},
   "source": [
    "Este conjunto de dados é uma coleção de mais de 90 mil carros abrangendo os anos de 1970 a 2024. Além disso, conta com informações como o modelo, preço,quilometragem, transmissão, tamanho do motor, fabricante e tipo de combustível."
   ]
  },
  {
   "cell_type": "code",
   "execution_count": 4,
   "metadata": {},
   "outputs": [],
   "source": [
    "df = pd.read_csv('../data/raw/CarsData.csv')\n",
    "df.to_csv('../data/raw/CarsData.csv', index=False)"
   ]
  },
  {
   "cell_type": "markdown",
   "metadata": {},
   "source": [
    "#### Dimensão do DataFrame"
   ]
  },
  {
   "cell_type": "code",
   "execution_count": 5,
   "metadata": {},
   "outputs": [
    {
     "data": {
      "text/plain": [
       "(97712, 10)"
      ]
     },
     "execution_count": 5,
     "metadata": {},
     "output_type": "execute_result"
    }
   ],
   "source": [
    "df.shape"
   ]
  },
  {
   "cell_type": "markdown",
   "metadata": {},
   "source": [
    "#### Visão geral dos dados"
   ]
  },
  {
   "cell_type": "code",
   "execution_count": 6,
   "metadata": {},
   "outputs": [
    {
     "data": {
      "text/html": [
       "<div>\n",
       "<style scoped>\n",
       "    .dataframe tbody tr th:only-of-type {\n",
       "        vertical-align: middle;\n",
       "    }\n",
       "\n",
       "    .dataframe tbody tr th {\n",
       "        vertical-align: top;\n",
       "    }\n",
       "\n",
       "    .dataframe thead th {\n",
       "        text-align: right;\n",
       "    }\n",
       "</style>\n",
       "<table border=\"1\" class=\"dataframe\">\n",
       "  <thead>\n",
       "    <tr style=\"text-align: right;\">\n",
       "      <th></th>\n",
       "      <th>model</th>\n",
       "      <th>year</th>\n",
       "      <th>price</th>\n",
       "      <th>transmission</th>\n",
       "      <th>mileage</th>\n",
       "      <th>fuelType</th>\n",
       "      <th>tax</th>\n",
       "      <th>mpg</th>\n",
       "      <th>engineSize</th>\n",
       "      <th>Manufacturer</th>\n",
       "    </tr>\n",
       "  </thead>\n",
       "  <tbody>\n",
       "    <tr>\n",
       "      <th>0</th>\n",
       "      <td>I10</td>\n",
       "      <td>2017</td>\n",
       "      <td>7495</td>\n",
       "      <td>Manual</td>\n",
       "      <td>11630</td>\n",
       "      <td>Petrol</td>\n",
       "      <td>145</td>\n",
       "      <td>60.1</td>\n",
       "      <td>1.0</td>\n",
       "      <td>hyundi</td>\n",
       "    </tr>\n",
       "    <tr>\n",
       "      <th>1</th>\n",
       "      <td>Polo</td>\n",
       "      <td>2017</td>\n",
       "      <td>10989</td>\n",
       "      <td>Manual</td>\n",
       "      <td>9200</td>\n",
       "      <td>Petrol</td>\n",
       "      <td>145</td>\n",
       "      <td>58.9</td>\n",
       "      <td>1.0</td>\n",
       "      <td>volkswagen</td>\n",
       "    </tr>\n",
       "    <tr>\n",
       "      <th>2</th>\n",
       "      <td>2 Series</td>\n",
       "      <td>2019</td>\n",
       "      <td>27990</td>\n",
       "      <td>Semi-Auto</td>\n",
       "      <td>1614</td>\n",
       "      <td>Diesel</td>\n",
       "      <td>145</td>\n",
       "      <td>49.6</td>\n",
       "      <td>2.0</td>\n",
       "      <td>BMW</td>\n",
       "    </tr>\n",
       "    <tr>\n",
       "      <th>3</th>\n",
       "      <td>Yeti Outdoor</td>\n",
       "      <td>2017</td>\n",
       "      <td>12495</td>\n",
       "      <td>Manual</td>\n",
       "      <td>30960</td>\n",
       "      <td>Diesel</td>\n",
       "      <td>150</td>\n",
       "      <td>62.8</td>\n",
       "      <td>2.0</td>\n",
       "      <td>skoda</td>\n",
       "    </tr>\n",
       "    <tr>\n",
       "      <th>4</th>\n",
       "      <td>Fiesta</td>\n",
       "      <td>2017</td>\n",
       "      <td>7999</td>\n",
       "      <td>Manual</td>\n",
       "      <td>19353</td>\n",
       "      <td>Petrol</td>\n",
       "      <td>125</td>\n",
       "      <td>54.3</td>\n",
       "      <td>1.2</td>\n",
       "      <td>ford</td>\n",
       "    </tr>\n",
       "  </tbody>\n",
       "</table>\n",
       "</div>"
      ],
      "text/plain": [
       "          model  year  price transmission  mileage fuelType  tax   mpg  \\\n",
       "0           I10  2017   7495       Manual    11630   Petrol  145  60.1   \n",
       "1          Polo  2017  10989       Manual     9200   Petrol  145  58.9   \n",
       "2      2 Series  2019  27990    Semi-Auto     1614   Diesel  145  49.6   \n",
       "3  Yeti Outdoor  2017  12495       Manual    30960   Diesel  150  62.8   \n",
       "4        Fiesta  2017   7999       Manual    19353   Petrol  125  54.3   \n",
       "\n",
       "   engineSize Manufacturer  \n",
       "0         1.0       hyundi  \n",
       "1         1.0   volkswagen  \n",
       "2         2.0          BMW  \n",
       "3         2.0        skoda  \n",
       "4         1.2         ford  "
      ]
     },
     "execution_count": 6,
     "metadata": {},
     "output_type": "execute_result"
    }
   ],
   "source": [
    "df.head()"
   ]
  },
  {
   "cell_type": "markdown",
   "metadata": {},
   "source": [
    "#### Informações da tabela"
   ]
  },
  {
   "cell_type": "code",
   "execution_count": 7,
   "metadata": {},
   "outputs": [
    {
     "name": "stdout",
     "output_type": "stream",
     "text": [
      "<class 'pandas.core.frame.DataFrame'>\n",
      "RangeIndex: 97712 entries, 0 to 97711\n",
      "Data columns (total 10 columns):\n",
      " #   Column        Non-Null Count  Dtype  \n",
      "---  ------        --------------  -----  \n",
      " 0   model         97712 non-null  object \n",
      " 1   year          97712 non-null  int64  \n",
      " 2   price         97712 non-null  int64  \n",
      " 3   transmission  97712 non-null  object \n",
      " 4   mileage       97712 non-null  int64  \n",
      " 5   fuelType      97712 non-null  object \n",
      " 6   tax           97712 non-null  int64  \n",
      " 7   mpg           97712 non-null  float64\n",
      " 8   engineSize    97712 non-null  float64\n",
      " 9   Manufacturer  97712 non-null  object \n",
      "dtypes: float64(2), int64(4), object(4)\n",
      "memory usage: 7.5+ MB\n"
     ]
    }
   ],
   "source": [
    "df.info()"
   ]
  },
  {
   "cell_type": "markdown",
   "metadata": {},
   "source": [
    "#### Colunas da tabela"
   ]
  },
  {
   "cell_type": "code",
   "execution_count": 33,
   "metadata": {},
   "outputs": [
    {
     "data": {
      "text/plain": [
       "Index(['model', 'year', 'price', 'transmission', 'mileage', 'fuelType', 'tax',\n",
       "       'mpg', 'engineSize', 'Manufacturer'],\n",
       "      dtype='object')"
      ]
     },
     "execution_count": 33,
     "metadata": {},
     "output_type": "execute_result"
    }
   ],
   "source": [
    "df.columns"
   ]
  },
  {
   "cell_type": "markdown",
   "metadata": {},
   "source": [
    "### Dicionário de dados"
   ]
  },
  {
   "cell_type": "code",
   "execution_count": 8,
   "metadata": {},
   "outputs": [
    {
     "data": {
      "text/html": [
       "<div>\n",
       "<style scoped>\n",
       "    .dataframe tbody tr th:only-of-type {\n",
       "        vertical-align: middle;\n",
       "    }\n",
       "\n",
       "    .dataframe tbody tr th {\n",
       "        vertical-align: top;\n",
       "    }\n",
       "\n",
       "    .dataframe thead th {\n",
       "        text-align: right;\n",
       "    }\n",
       "</style>\n",
       "<table border=\"1\" class=\"dataframe\">\n",
       "  <thead>\n",
       "    <tr style=\"text-align: right;\">\n",
       "      <th></th>\n",
       "      <th>Variável</th>\n",
       "      <th>Descrição</th>\n",
       "    </tr>\n",
       "  </thead>\n",
       "  <tbody>\n",
       "    <tr>\n",
       "      <th>0</th>\n",
       "      <td>Model</td>\n",
       "      <td>O modelo do carro</td>\n",
       "    </tr>\n",
       "    <tr>\n",
       "      <th>1</th>\n",
       "      <td>Year</td>\n",
       "      <td>O ano de fabricação do carro</td>\n",
       "    </tr>\n",
       "    <tr>\n",
       "      <th>2</th>\n",
       "      <td>Price</td>\n",
       "      <td>O preço do carro</td>\n",
       "    </tr>\n",
       "    <tr>\n",
       "      <th>3</th>\n",
       "      <td>Transmission</td>\n",
       "      <td>O tipo de transmissão usado no carro</td>\n",
       "    </tr>\n",
       "    <tr>\n",
       "      <th>4</th>\n",
       "      <td>Mileage</td>\n",
       "      <td>A quilometragem do carro</td>\n",
       "    </tr>\n",
       "  </tbody>\n",
       "</table>\n",
       "</div>"
      ],
      "text/plain": [
       "       Variável                             Descrição\n",
       "0         Model                     O modelo do carro\n",
       "1          Year          O ano de fabricação do carro\n",
       "2         Price                      O preço do carro\n",
       "3  Transmission  O tipo de transmissão usado no carro\n",
       "4       Mileage              A quilometragem do carro"
      ]
     },
     "execution_count": 8,
     "metadata": {},
     "output_type": "execute_result"
    }
   ],
   "source": [
    "df_dc = pd.read_csv('../data/external/DictionaryCarsData.csv')\n",
    "df_dc.head()"
   ]
  },
  {
   "cell_type": "markdown",
   "metadata": {},
   "source": [
    "### Adição de duas colunas na documentação"
   ]
  },
  {
   "cell_type": "markdown",
   "metadata": {},
   "source": [
    "É necessária duas colunas com o tipo e o subtipo das variáveis no discionário, que serão adicionadas abaixo."
   ]
  },
  {
   "cell_type": "code",
   "execution_count": 10,
   "metadata": {},
   "outputs": [],
   "source": [
    "caminho = '../data/external/DictionaryCarsData.csv'\n",
    "\n",
    "df_dc = pd.read_csv(caminho)\n",
    "\n",
    "#adição da coluna tipo\n",
    "Tipo = [\n",
    "    'Qualitativa', 'Quantitativa', 'Quantitativa', 'Qualitativa', \n",
    "    'Quantitativa', 'Qualitativa', 'Quantitativa', 'Quantitativa', \n",
    "    'Quantitativa', 'Qualitativa'\n",
    "]\n",
    "\n",
    "#adição da coluna subtipo\n",
    "Subtipo = [\n",
    "    'Nominal', 'Discreta', 'Continua', 'Nominal', \n",
    "    'Continua', 'Nominal', 'Continua', 'Continua', \n",
    "    'Continua', 'Nominal'\n",
    "]\n",
    "\n",
    "df_dc['Tipo'] = Tipo\n",
    "df_dc['Subtipo'] = Subtipo\n",
    "\n",
    "df_dc.to_csv(caminho, index=False)"
   ]
  },
  {
   "cell_type": "code",
   "execution_count": 11,
   "metadata": {},
   "outputs": [
    {
     "data": {
      "text/html": [
       "<div>\n",
       "<style scoped>\n",
       "    .dataframe tbody tr th:only-of-type {\n",
       "        vertical-align: middle;\n",
       "    }\n",
       "\n",
       "    .dataframe tbody tr th {\n",
       "        vertical-align: top;\n",
       "    }\n",
       "\n",
       "    .dataframe thead th {\n",
       "        text-align: right;\n",
       "    }\n",
       "</style>\n",
       "<table border=\"1\" class=\"dataframe\">\n",
       "  <thead>\n",
       "    <tr style=\"text-align: right;\">\n",
       "      <th></th>\n",
       "      <th>Variável</th>\n",
       "      <th>Descrição</th>\n",
       "      <th>Tipo</th>\n",
       "      <th>Subtipo</th>\n",
       "    </tr>\n",
       "  </thead>\n",
       "  <tbody>\n",
       "    <tr>\n",
       "      <th>0</th>\n",
       "      <td>Model</td>\n",
       "      <td>O modelo do carro</td>\n",
       "      <td>Qualitativa</td>\n",
       "      <td>Nominal</td>\n",
       "    </tr>\n",
       "    <tr>\n",
       "      <th>1</th>\n",
       "      <td>Year</td>\n",
       "      <td>O ano de fabricação do carro</td>\n",
       "      <td>Quantitativa</td>\n",
       "      <td>Discreta</td>\n",
       "    </tr>\n",
       "    <tr>\n",
       "      <th>2</th>\n",
       "      <td>Price</td>\n",
       "      <td>O preço do carro</td>\n",
       "      <td>Quantitativa</td>\n",
       "      <td>Continua</td>\n",
       "    </tr>\n",
       "    <tr>\n",
       "      <th>3</th>\n",
       "      <td>Transmission</td>\n",
       "      <td>O tipo de transmissão usado no carro</td>\n",
       "      <td>Qualitativa</td>\n",
       "      <td>Nominal</td>\n",
       "    </tr>\n",
       "    <tr>\n",
       "      <th>4</th>\n",
       "      <td>Mileage</td>\n",
       "      <td>A quilometragem do carro</td>\n",
       "      <td>Quantitativa</td>\n",
       "      <td>Continua</td>\n",
       "    </tr>\n",
       "  </tbody>\n",
       "</table>\n",
       "</div>"
      ],
      "text/plain": [
       "       Variável                             Descrição          Tipo   Subtipo\n",
       "0         Model                     O modelo do carro   Qualitativa   Nominal\n",
       "1          Year          O ano de fabricação do carro  Quantitativa  Discreta\n",
       "2         Price                      O preço do carro  Quantitativa  Continua\n",
       "3  Transmission  O tipo de transmissão usado no carro   Qualitativa   Nominal\n",
       "4       Mileage              A quilometragem do carro  Quantitativa  Continua"
      ]
     },
     "execution_count": 11,
     "metadata": {},
     "output_type": "execute_result"
    }
   ],
   "source": [
    "df_dc.head()"
   ]
  },
  {
   "cell_type": "code",
   "execution_count": 12,
   "metadata": {},
   "outputs": [
    {
     "data": {
      "text/plain": [
       "Index(['Variável', 'Descrição', 'Tipo', 'Subtipo'], dtype='object')"
      ]
     },
     "execution_count": 12,
     "metadata": {},
     "output_type": "execute_result"
    }
   ],
   "source": [
    "df_dc.columns"
   ]
  },
  {
   "cell_type": "markdown",
   "metadata": {},
   "source": [
    "### Estatísticas Descritivas"
   ]
  },
  {
   "cell_type": "markdown",
   "metadata": {},
   "source": [
    "Estatísticas descritivas para as variáveis numéricas (média, mediana, desvio padrão, valores mínimos e máximos, quartis)."
   ]
  },
  {
   "cell_type": "code",
   "execution_count": 13,
   "metadata": {},
   "outputs": [
    {
     "data": {
      "text/html": [
       "<div>\n",
       "<style scoped>\n",
       "    .dataframe tbody tr th:only-of-type {\n",
       "        vertical-align: middle;\n",
       "    }\n",
       "\n",
       "    .dataframe tbody tr th {\n",
       "        vertical-align: top;\n",
       "    }\n",
       "\n",
       "    .dataframe thead th {\n",
       "        text-align: right;\n",
       "    }\n",
       "</style>\n",
       "<table border=\"1\" class=\"dataframe\">\n",
       "  <thead>\n",
       "    <tr style=\"text-align: right;\">\n",
       "      <th></th>\n",
       "      <th>year</th>\n",
       "      <th>price</th>\n",
       "      <th>mileage</th>\n",
       "      <th>tax</th>\n",
       "      <th>mpg</th>\n",
       "      <th>engineSize</th>\n",
       "    </tr>\n",
       "  </thead>\n",
       "  <tbody>\n",
       "    <tr>\n",
       "      <th>count</th>\n",
       "      <td>97712.00</td>\n",
       "      <td>97712.00</td>\n",
       "      <td>97712.00</td>\n",
       "      <td>97712.00</td>\n",
       "      <td>97712.00</td>\n",
       "      <td>97712.00</td>\n",
       "    </tr>\n",
       "    <tr>\n",
       "      <th>mean</th>\n",
       "      <td>2017.07</td>\n",
       "      <td>16773.49</td>\n",
       "      <td>23219.48</td>\n",
       "      <td>120.14</td>\n",
       "      <td>55.21</td>\n",
       "      <td>1.66</td>\n",
       "    </tr>\n",
       "    <tr>\n",
       "      <th>std</th>\n",
       "      <td>2.12</td>\n",
       "      <td>9868.55</td>\n",
       "      <td>21060.88</td>\n",
       "      <td>63.36</td>\n",
       "      <td>16.18</td>\n",
       "      <td>0.56</td>\n",
       "    </tr>\n",
       "    <tr>\n",
       "      <th>min</th>\n",
       "      <td>1970.00</td>\n",
       "      <td>450.00</td>\n",
       "      <td>1.00</td>\n",
       "      <td>0.00</td>\n",
       "      <td>0.30</td>\n",
       "      <td>0.00</td>\n",
       "    </tr>\n",
       "    <tr>\n",
       "      <th>25%</th>\n",
       "      <td>2016.00</td>\n",
       "      <td>9999.00</td>\n",
       "      <td>7673.00</td>\n",
       "      <td>125.00</td>\n",
       "      <td>47.10</td>\n",
       "      <td>1.20</td>\n",
       "    </tr>\n",
       "    <tr>\n",
       "      <th>50%</th>\n",
       "      <td>2017.00</td>\n",
       "      <td>14470.00</td>\n",
       "      <td>17682.50</td>\n",
       "      <td>145.00</td>\n",
       "      <td>54.30</td>\n",
       "      <td>1.60</td>\n",
       "    </tr>\n",
       "    <tr>\n",
       "      <th>75%</th>\n",
       "      <td>2019.00</td>\n",
       "      <td>20750.00</td>\n",
       "      <td>32500.00</td>\n",
       "      <td>145.00</td>\n",
       "      <td>62.80</td>\n",
       "      <td>2.00</td>\n",
       "    </tr>\n",
       "    <tr>\n",
       "      <th>max</th>\n",
       "      <td>2024.00</td>\n",
       "      <td>159999.00</td>\n",
       "      <td>323000.00</td>\n",
       "      <td>580.00</td>\n",
       "      <td>470.80</td>\n",
       "      <td>6.60</td>\n",
       "    </tr>\n",
       "  </tbody>\n",
       "</table>\n",
       "</div>"
      ],
      "text/plain": [
       "           year      price    mileage       tax       mpg  engineSize\n",
       "count  97712.00   97712.00   97712.00  97712.00  97712.00    97712.00\n",
       "mean    2017.07   16773.49   23219.48    120.14     55.21        1.66\n",
       "std        2.12    9868.55   21060.88     63.36     16.18        0.56\n",
       "min     1970.00     450.00       1.00      0.00      0.30        0.00\n",
       "25%     2016.00    9999.00    7673.00    125.00     47.10        1.20\n",
       "50%     2017.00   14470.00   17682.50    145.00     54.30        1.60\n",
       "75%     2019.00   20750.00   32500.00    145.00     62.80        2.00\n",
       "max     2024.00  159999.00  323000.00    580.00    470.80        6.60"
      ]
     },
     "execution_count": 13,
     "metadata": {},
     "output_type": "execute_result"
    }
   ],
   "source": [
    "df.describe().round(2)"
   ]
  },
  {
   "cell_type": "markdown",
   "metadata": {},
   "source": [
    "#### Categorias e Frequências"
   ]
  },
  {
   "cell_type": "markdown",
   "metadata": {},
   "source": [
    "Estatísticas descritivas para variáveis qualitativas, categorias únicas e as frequências."
   ]
  },
  {
   "cell_type": "code",
   "execution_count": 14,
   "metadata": {},
   "outputs": [
    {
     "name": "stdout",
     "output_type": "stream",
     "text": [
      "Valores e Frequências para a coluna model:\n",
      "Fiesta             6509\n",
      "Golf               4797\n",
      "Focus              4555\n",
      "C Class            3694\n",
      "Corsa              3285\n",
      "                   ... \n",
      "Transit Tourneo       1\n",
      "Escort                1\n",
      "200                   1\n",
      "Ranger                1\n",
      "220                   1\n",
      "Name: model, Length: 195, dtype: int64\n",
      "\n",
      "\n",
      "Valores e Frequências para a coluna transmission:\n",
      "Manual       55502\n",
      "Semi-Auto    22296\n",
      "Automatic    19905\n",
      "Other            9\n",
      "Name: transmission, dtype: int64\n",
      "\n",
      "\n",
      "Valores e Frequências para a coluna fuelType:\n",
      "Petrol      53982\n",
      "Diesel      40419\n",
      "Hybrid       3059\n",
      "Other         246\n",
      "Electric        6\n",
      "Name: fuelType, dtype: int64\n",
      "\n",
      "\n",
      "Valores e Frequências para a coluna Manufacturer:\n",
      "ford          17811\n",
      "volkswagen    14893\n",
      "vauxhall      13258\n",
      "merc          12860\n",
      "BMW           10664\n",
      "Audi          10565\n",
      "toyota         6699\n",
      "skoda          6188\n",
      "hyundi         4774\n",
      "Name: Manufacturer, dtype: int64\n",
      "\n",
      "\n"
     ]
    }
   ],
   "source": [
    "df = pd.read_csv('../data/raw/CarsData.csv')\n",
    "\n",
    "colunas_categoricas = ['model', 'transmission', 'fuelType', 'Manufacturer']\n",
    "\n",
    "for coluna in colunas_categoricas:\n",
    "    print(f'Valores e Frequências para a coluna {coluna}:')\n",
    "    print(df[coluna].value_counts())\n",
    "    print('\\n')"
   ]
  },
  {
   "cell_type": "markdown",
   "metadata": {},
   "source": [
    "#### Número de categorias por variáveis"
   ]
  },
  {
   "cell_type": "code",
   "execution_count": 15,
   "metadata": {},
   "outputs": [
    {
     "name": "stdout",
     "output_type": "stream",
     "text": [
      "model: 195\n",
      "transmission: 4\n",
      "fuelType: 5\n",
      "Manufacturer: 9\n"
     ]
    }
   ],
   "source": [
    "df = pd.read_csv('../data/raw/CarsData.csv')\n",
    "\n",
    "colunas_categoricas = ['model', 'transmission', 'fuelType', 'Manufacturer']\n",
    "\n",
    "categorias_unicas = {}\n",
    "\n",
    "for coluna in colunas_categoricas:\n",
    "    categorias_unicas[coluna] = df[coluna].nunique()\n",
    "\n",
    "for coluna, num_categorias in categorias_unicas.items():\n",
    "    print(f'{coluna}: {num_categorias}')"
   ]
  },
  {
   "cell_type": "markdown",
   "metadata": {},
   "source": [
    "### Verificação de valores ausentes"
   ]
  },
  {
   "cell_type": "code",
   "execution_count": 16,
   "metadata": {},
   "outputs": [
    {
     "name": "stdout",
     "output_type": "stream",
     "text": [
      "              Valores Ausentes\n",
      "model                        0\n",
      "year                         0\n",
      "price                        0\n",
      "transmission                 0\n",
      "mileage                      0\n",
      "fuelType                     0\n",
      "tax                          0\n",
      "mpg                          0\n",
      "engineSize                   0\n",
      "Manufacturer                 0\n"
     ]
    }
   ],
   "source": [
    "valores_ausentes = df.isnull().sum()\n",
    "\n",
    "total_valores = df.shape[0]\n",
    "\n",
    "\n",
    "\n",
    "analise_ausentes = pd.DataFrame({\n",
    "    'Valores Ausentes': valores_ausentes,\n",
    "})\n",
    "\n",
    "print(analise_ausentes)"
   ]
  },
  {
   "cell_type": "markdown",
   "metadata": {},
   "source": [
    "## 2. Perguntas de partida e hipóteses"
   ]
  },
  {
   "cell_type": "markdown",
   "metadata": {},
   "source": [
    "#### As perguntas de partida e hipóteses serão com base nos seguintes questionamentos: ###\n",
    "#### 1. Evolução de Preços:\n",
    "- Como os preços dos carros mudaram ao longo do tempo (1970-2024)? \n",
    "- Existe uma diferença significativa de preço entre carros de diferentes fabricantes ao longo dos anos?\n",
    "#### 2. Características dos Carros:\n",
    "- Como as características dos carros (como tipo de combustível, potência, consumo de combustível) evoluíram ao longo das décadas?\n",
    "- Houve um aumento significativo no uso de carros elétricos ou híbridos desde 2010?\n",
    "#### 4. Desempenho e Eficiência:\n",
    "- Houve uma melhora no desempenho (potência do motor) em relação ao consumo de combustível (km/l)?\n",
    "- Como a eficiência de combustível dos carros mudou ao longo do tempo, especialmente com a introdução de novos modelos e tecnologias?\n",
    "#### 5. Mudanças no Mercado de Automóveis:\n",
    "- Quais marcas ou modelos dominaram o mercado de carros em diferentes décadas?\n",
    "- Como a segmentação do mercado (carros de luxo, populares, esportivos) evoluiu ao longo dos anos?\n",
    "\n",
    "## Hipóteses:\n",
    "- O consumo médio de combustível dos carros aumentou com o passar das décadas, devido ao aumento de carros com maior potência.\n",
    "- O preço médio dos carros aumentou ao longo do tempo, especialmente devido ao aumento nos custos de fabricação e melhorias tecnológicas.\n",
    "- As crises econômicas, como a crise financeira de 2008, tiveram um impacto negativo nas vendas de carros de luxo e veículos de alta potência.\n"
   ]
  },
  {
   "cell_type": "markdown",
   "metadata": {},
   "source": [
    "## 3. Insights"
   ]
  },
  {
   "cell_type": "markdown",
   "metadata": {},
   "source": [
    "- Mudança de características dos carros: Como a potência e a eficiência dos motores mudaram ao longo das décadas?\n",
    "- Como os preços e a demanda por carros esportivos mudaram em relação aos carros familiares?"
   ]
  },
  {
   "cell_type": "code",
   "execution_count": null,
   "metadata": {},
   "outputs": [],
   "source": []
  }
 ],
 "metadata": {
  "kernelspec": {
   "display_name": "Python 3 (ipykernel)",
   "language": "python",
   "name": "python3"
  },
  "language_info": {
   "codemirror_mode": {
    "name": "ipython",
    "version": 3
   },
   "file_extension": ".py",
   "mimetype": "text/x-python",
   "name": "python",
   "nbconvert_exporter": "python",
   "pygments_lexer": "ipython3",
   "version": "3.10.11"
  },
  "vscode": {
   "interpreter": {
    "hash": "eb3c3305d8b111f0102f4f519c5f17abd113fe74db6752c355e994a9008815ef"
   }
  }
 },
 "nbformat": 4,
 "nbformat_minor": 2
}
